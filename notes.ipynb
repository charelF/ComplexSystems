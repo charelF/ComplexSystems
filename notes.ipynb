{
 "metadata": {
  "language_info": {
   "codemirror_mode": {
    "name": "ipython",
    "version": 3
   },
   "file_extension": ".py",
   "mimetype": "text/x-python",
   "name": "python",
   "nbconvert_exporter": "python",
   "pygments_lexer": "ipython3",
   "version": 3
  },
  "orig_nbformat": 2
 },
 "nbformat": 4,
 "nbformat_minor": 2,
 "cells": [
  {
   "source": [
    "# test\n",
    "\n",
    "## test\n",
    "\n",
    "- 1\n",
    "-- 2\n",
    "\n",
    "$$ \\sum_{i=0}^{N} (\\frac{1}{2}) \\log{abc}  $$\n",
    "$ \\sum_{i=0}^{N} (\\frac{1}{2}) \\log{abc}  $"
   ],
   "cell_type": "markdown",
   "metadata": {}
  }
 ]
}