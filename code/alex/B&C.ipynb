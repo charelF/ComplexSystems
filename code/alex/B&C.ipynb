{
 "cells": [
  {
   "cell_type": "code",
   "execution_count": 3,
   "metadata": {},
   "outputs": [],
   "source": [
    "import numpy as np\n",
    "import matplotlib.pyplot as plt\n",
    "import pandas as pd"
   ]
  },
  {
   "cell_type": "code",
   "execution_count": 4,
   "metadata": {},
   "outputs": [
    {
     "data": {
      "text/plain": "3"
     },
     "execution_count": 4,
     "metadata": {},
     "output_type": "execute_result"
    }
   ],
   "source": [
    "\n",
    "\n",
    "\n"
   ]
  },
  {
   "cell_type": "code",
   "execution_count": 112,
   "metadata": {},
   "outputs": [
    {
     "data": {
      "text/plain": "(0.0, 1.0)"
     },
     "execution_count": 112,
     "metadata": {},
     "output_type": "execute_result"
    },
    {
     "data": {
      "image/png": "[encoded data removed]",
      "text/plain": "<Figure size 1080x360 with 1 Axes>"
     },
     "metadata": {
      "needs_background": "light"
     },
     "output_type": "display_data"
    }
   ],
   "source": [
    "N = 100  # number of traders\n",
    "q= 10  #fixed amount of stock\n",
    "\n",
    "T = 100  # number of iterations\n",
    "miu = 120  # market temperature\n",
    "lamb = 1 # speed of adjustmnet of the market price\n",
    "\n",
    "a = 1  # denoted the strength of trader js influence on trader i\n",
    "b = 0.5  # denotes the strength of reaction of trader i upon the change of the investment environment s \n",
    "s = 1    # investment environment \n",
    "\n",
    "miu = 1/N\n",
    "alpha = miu*a*N # strength that traders chase the trend\n",
    "beta = miu*b  # investement attitude \n",
    "\n",
    "\n",
    "alpha= 1.2\n",
    "beta= 0\n",
    "s=0\n",
    "\n",
    "x = np.zeros(T)\n",
    "x[0] = 5\n",
    "\n",
    "\n",
    "for t in range(1,T):\n",
    "    # s[t] = np.sin(3*t/T)\n",
    "    x[t] = np.tanh(alpha*x[t-1] + beta*s)\n",
    "\n",
    "plt.figure(figsize=(15,5))\n",
    "plt.plot(x)\n",
    "plt.xlim(0,N)\n",
    "plt.ylim(0,1)"
   ]
  },
  {
   "cell_type": "code",
   "execution_count": null,
   "metadata": {},
   "outputs": [],
   "source": []
  }
 ],
 "metadata": {
  "kernelspec": {
   "display_name": "Python 3.8.3 64-bit ('base': conda)",
   "name": "python383jvsc74a57bd0dca0ade3e726a953b501b15e8e990130d2b7799f14cfd9f4271676035ebe5511"
  },
  "language_info": {
   "codemirror_mode": {
    "name": "ipython",
    "version": 3
   },
   "file_extension": ".py",
   "mimetype": "text/x-python",
   "name": "python",
   "nbconvert_exporter": "python",
   "pygments_lexer": "ipython3",
   "version": "3.8.3"
  },
  "orig_nbformat": 2
 },
 "nbformat": 4,
 "nbformat_minor": 2
}