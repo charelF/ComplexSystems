{
 "metadata": {
  "language_info": {
   "codemirror_mode": {
    "name": "ipython",
    "version": 3
   },
   "file_extension": ".py",
   "mimetype": "text/x-python",
   "name": "python",
   "nbconvert_exporter": "python",
   "pygments_lexer": "ipython3",
   "version": "3.8.7"
  },
  "orig_nbformat": 4,
  "kernelspec": {
   "name": "python3",
   "display_name": "Python 3.8.7 64-bit"
  },
  "interpreter": {
   "hash": "4cd7ab41f5fca4b9b44701077e38c5ffd31fe66a6cab21e0214b68d958d0e462"
  }
 },
 "nbformat": 4,
 "nbformat_minor": 2,
 "cells": [
  {
   "cell_type": "code",
   "execution_count": 7,
   "metadata": {},
   "outputs": [
    {
     "output_type": "error",
     "ename": "ModuleNotFoundError",
     "evalue": "No module named 'numpy'",
     "traceback": [
      "\u001b[0;31m---------------------------------------------------------------------------\u001b[0m",
      "\u001b[0;31mModuleNotFoundError\u001b[0m                       Traceback (most recent call last)",
      "\u001b[0;32m<ipython-input-7-ab5428e6a581>\u001b[0m in \u001b[0;36m<module>\u001b[0;34m\u001b[0m\n\u001b[0;32m----> 1\u001b[0;31m \u001b[0;32mimport\u001b[0m \u001b[0mnumpy\u001b[0m \u001b[0;32mas\u001b[0m \u001b[0mnp\u001b[0m\u001b[0;34m\u001b[0m\u001b[0;34m\u001b[0m\u001b[0m\n\u001b[0m\u001b[1;32m      2\u001b[0m \u001b[0;32mimport\u001b[0m \u001b[0mmatplotlib\u001b[0m\u001b[0;34m.\u001b[0m\u001b[0mpyplot\u001b[0m \u001b[0;32mas\u001b[0m \u001b[0mplt\u001b[0m\u001b[0;34m\u001b[0m\u001b[0;34m\u001b[0m\u001b[0m\n\u001b[1;32m      3\u001b[0m \u001b[0;32mimport\u001b[0m \u001b[0mpandas\u001b[0m \u001b[0;32mas\u001b[0m \u001b[0mpd\u001b[0m\u001b[0;34m\u001b[0m\u001b[0;34m\u001b[0m\u001b[0m\n\u001b[1;32m      4\u001b[0m \u001b[0;32mimport\u001b[0m \u001b[0mmath\u001b[0m\u001b[0;34m\u001b[0m\u001b[0;34m\u001b[0m\u001b[0m\n\u001b[1;32m      5\u001b[0m \u001b[0;32mimport\u001b[0m \u001b[0mrandom\u001b[0m\u001b[0;34m\u001b[0m\u001b[0;34m\u001b[0m\u001b[0m\n",
      "\u001b[0;31mModuleNotFoundError\u001b[0m: No module named 'numpy'"
     ]
    }
   ],
   "source": [
    "import numpy as np\n",
    "import matplotlib.pyplot as plt\n",
    "import pandas as pd\n",
    "import math\n",
    "import random\n",
    "from mpl_toolkits.axes_grid1 import make_axes_locatable\n",
    "\n",
    "import warnings\n",
    "warnings.simplefilter(\"ignore\")\n",
    "\n",
    "# np.random.seed(1)\n",
    "# random.seed(1)\n",
    "\n",
    "import sys\n",
    "sys.path.append(\"..\")\n",
    "sys.path.append(\"../shared\")\n",
    "\n",
    "from wednesdaySPEED import simulation"
   ]
  },
  {
   "cell_type": "code",
   "execution_count": 8,
   "metadata": {},
   "outputs": [],
   "source": [
    "def moving_average(x, w):\n",
    "    return np.convolve(x, np.ones(w), 'valid') / w\n",
    "\n",
    "\n",
    "def visualiseNICE(G, P, N, S, X, D, T, U):\n",
    "    fig, (ax1,ax2,ax3,ax4,ax5,ax6,ax7) = plt.subplots(\n",
    "        ncols=1, nrows=7, figsize=(12,12), sharex=True, gridspec_kw = \n",
    "        {'wspace':0, 'hspace':0.05, 'height_ratios':[1,2,1,1,1,1,1]}\n",
    "    )\n",
    "    im1 = ax1.imshow(G.T, cmap=\"bone\", interpolation=\"None\", aspect=\"auto\")\n",
    "    im4 = ax4.imshow(P.T, cmap=\"hot\", interpolation=\"None\", aspect=\"auto\")\n",
    "    amnwc = np.max(np.abs(N-initial_account_balance))  # absolute max net worth change\n",
    "    vmin, vmax = initial_account_balance-amnwc, initial_account_balance+amnwc\n",
    "    im5 = ax5.imshow(N.T, cmap=\"bwr\", interpolation=\"None\", aspect=\"auto\", vmin=vmin, vmax=vmax)\n",
    "\n",
    "    size = \"15%\"\n",
    "\n",
    "    cax1 = make_axes_locatable(ax1).append_axes('right', size=size, pad=0.05)\n",
    "    fig.colorbar(im1, cax=cax1, orientation='vertical')\n",
    "    cax4 = make_axes_locatable(ax4).append_axes('right', size=size, pad=0.05)\n",
    "    fig.colorbar(im4, cax=cax4, orientation='vertical')\n",
    "    cax5 = make_axes_locatable(ax5).append_axes('right', size=size, pad=0.05)\n",
    "    fig.colorbar(im5, cax=cax5, orientation='vertical')\n",
    "\n",
    "    cax2 = make_axes_locatable(ax2).append_axes('right', size=size, pad=0.05)\n",
    "    cax2.hist(S, orientation=\"horizontal\", bins=np.linspace(np.min(S), np.max(S), len(S)//2))\n",
    "    # cax2.hist(np.log10(S), orientation=\"horizontal\", bins=np.logspace(np.log10(np.min(S)), np.log10(np.max(S)), len(S)//2))\n",
    "    # cax2.set_xscale(\"log\")\n",
    "    # cax2.set_yscale(\"log\")\n",
    "    cax2.get_xaxis().set_visible(False)\n",
    "    cax2.get_yaxis().set_visible(False)\n",
    "\n",
    "    cax3 = make_axes_locatable(ax3).append_axes('right', size=size, pad=0.05)\n",
    "    cax3.hist(X, orientation=\"horizontal\", bins=np.linspace(np.min(X), np.max(X), len(X)//5))\n",
    "    cax3.get_xaxis().set_visible(False)\n",
    "    cax3.get_yaxis().set_visible(False)\n",
    "\n",
    "    cax6 = make_axes_locatable(ax6).append_axes('right', size=size, pad=0.05)\n",
    "    cax6.get_xaxis().set_visible(False)\n",
    "    cax6.get_yaxis().set_visible(False)\n",
    "    cax7 = make_axes_locatable(ax7).append_axes('right', size=size, pad=0.05)\n",
    "    cax7.get_xaxis().set_visible(False)\n",
    "    cax7.get_yaxis().set_visible(False)\n",
    "\n",
    "    # for ax in (ax2,ax3):\n",
    "    #     cax = make_axes_locatable(ax).append_axes('right', size=size, pad=0.05)\n",
    "    #     # cax.axis('off')\n",
    "\n",
    "    ax2.set_yscale(\"log\")\n",
    "    ax2.plot(S, label=\"S\")\n",
    "    Ws = [25]\n",
    "    for W in Ws:\n",
    "        ax2.plot(np.arange(W-1, len(S)), moving_average(S, W), label=f\"MA{W}\")\n",
    "    ax2.grid(alpha=0.4)\n",
    "    # ax2.legend(ncol=len(Ws)+1)\n",
    "\n",
    "    ax3.bar(np.arange(len(X)), X)\n",
    "    ax3.grid(alpha=0.4)\n",
    "\n",
    "    # if D.shape[1] < 25:\n",
    "    #     ax6.plot(D, color=\"black\", alpha=0.3)\n",
    "    # ax6.plot(np.mean(D,axis=1), color=\"black\", alpha=1)\n",
    "    # ax6.grid(alpha=0.4)\n",
    "    ax7.set_yscale(\"symlog\")\n",
    "    ax7.plot(T, label=\"stack\")\n",
    "    ax7.plot(U, label=\"called shares\")\n",
    "    ax7.grid(alpha=0.4)\n",
    "    ax7.legend()\n",
    "\n",
    "    # if D.shape[1] < 25:\n",
    "    #     ax6.plot(D, color=\"black\", alpha=0.3)\n",
    "    # ax6.plot(np.mean(D,axis=1), color=\"black\", alpha=1)\n",
    "    ax6.imshow(D.T, cmap=\"binary\", interpolation=\"None\", aspect=\"auto\")\n",
    "    # ax6.grid(alpha=0.4)\n",
    "    \n",
    "\n",
    "    ax6.set_xlabel(\"time\")\n",
    "    # ax2.set_ylabel(\"standardised log returns\")\n",
    "    ax2.set_ylabel(\"close price\")\n",
    "    ax1.set_ylabel(\"agents\")\n",
    "    ax3.set_ylabel(\"log return\")\n",
    "    ax4.set_ylabel(\"portfolio\")\n",
    "    ax5.set_ylabel(\"net worth\")\n",
    "    ax6.set_ylabel(\"influence (I)\")\n",
    "\n",
    "    # fig.colorbar(im, cax=ax4)\n",
    "\n",
    "    plt.tight_layout()\n",
    "    plt.show()\n"
   ]
  },
  {
   "cell_type": "code",
   "execution_count": 9,
   "metadata": {},
   "outputs": [
    {
     "output_type": "error",
     "ename": "NameError",
     "evalue": "name 'simulation' is not defined",
     "traceback": [
      "\u001b[0;31m---------------------------------------------------------------------------\u001b[0m",
      "\u001b[0;31mNameError\u001b[0m                                 Traceback (most recent call last)",
      "\u001b[0;32m<ipython-input-9-cb9e0e7c1ebd>\u001b[0m in \u001b[0;36m<module>\u001b[0;34m\u001b[0m\n\u001b[0;32m----> 1\u001b[0;31m G,P,N,S,X,D,T,U,C, initial_account_balance = simulation(\n\u001b[0m\u001b[1;32m      2\u001b[0m         \u001b[0mtrigger\u001b[0m \u001b[0;34m=\u001b[0m \u001b[0;32mTrue\u001b[0m\u001b[0;34m,\u001b[0m \u001b[0mbound\u001b[0m \u001b[0;34m=\u001b[0m \u001b[0;32mTrue\u001b[0m\u001b[0;34m,\u001b[0m \u001b[0mpd\u001b[0m \u001b[0;34m=\u001b[0m \u001b[0;36m0.05\u001b[0m\u001b[0;34m,\u001b[0m \u001b[0mpe\u001b[0m \u001b[0;34m=\u001b[0m \u001b[0;36m0.01\u001b[0m\u001b[0;34m,\u001b[0m\u001b[0;34m\u001b[0m\u001b[0;34m\u001b[0m\u001b[0m\n\u001b[1;32m      3\u001b[0m         \u001b[0mph\u001b[0m \u001b[0;34m=\u001b[0m \u001b[0;36m0.0485\u001b[0m\u001b[0;34m,\u001b[0m \u001b[0mpa\u001b[0m \u001b[0;34m=\u001b[0m \u001b[0;36m0.7\u001b[0m\u001b[0;34m,\u001b[0m \u001b[0mN0\u001b[0m\u001b[0;34m=\u001b[0m\u001b[0;36m2000\u001b[0m\u001b[0;34m,\u001b[0m \u001b[0mN1\u001b[0m \u001b[0;34m=\u001b[0m\u001b[0;36m2000\u001b[0m\u001b[0;34m,\u001b[0m \u001b[0mA\u001b[0m \u001b[0;34m=\u001b[0m\u001b[0;36m4\u001b[0m\u001b[0;34m,\u001b[0m \u001b[0ma\u001b[0m\u001b[0;34m=\u001b[0m\u001b[0;36m1\u001b[0m\u001b[0;34m,\u001b[0m \u001b[0mh\u001b[0m\u001b[0;34m=\u001b[0m\u001b[0;36m1\u001b[0m\u001b[0;34m,\u001b[0m\u001b[0;34m\u001b[0m\u001b[0;34m\u001b[0m\u001b[0m\n\u001b[1;32m      4\u001b[0m         pi1 = 0.5, pi2 = 0.3, pi3 = 0.2, ub=1000, lb=20)\n\u001b[1;32m      5\u001b[0m \u001b[0;34m\u001b[0m\u001b[0m\n",
      "\u001b[0;31mNameError\u001b[0m: name 'simulation' is not defined"
     ]
    }
   ],
   "source": [
    "G,P,N,S,X,D,T,U,C, initial_account_balance = simulation(\n",
    "        trigger = True, bound = True, pd = 0.05, pe = 0.01,\n",
    "        ph = 0.0485, pa = 0.7, N0=2000, N1 =2000, A =4, a=1, h=1, \n",
    "        pi1 = 0.5, pi2 = 0.3, pi3 = 0.2, ub=1000, lb=20)\n",
    "\n",
    "visualiseNICE(G, P, N, S, X, D, T, U)"
   ]
  },
  {
   "cell_type": "code",
   "execution_count": null,
   "metadata": {},
   "outputs": [],
   "source": []
  }
 ]
}